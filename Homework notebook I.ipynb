{
 "cells": [
  {
   "cell_type": "markdown",
   "metadata": {},
   "source": [
    "# Homework notebook I - Mauricio Vega\n",
    "\n",
    "This is the first notebook to help you practice your macroeconomic modelling and problem solving skills. It will also be part of your evaluation. Although I prefer, and highly recommend, to solve these tasks in **python**, I will accept any other programming language, as only solutions to the problems will be evaluated.\n",
    "\n",
    "The notebook consist of the solution of one model, whose balanced growth path needs to be computed numerically:\n",
    "\n",
    "- Using local approximations\n",
    "\n",
    "- Using dynamic programing\n",
    "\n",
    "## The model\n",
    "Consider the next planning problem of a *dynastic* version of the neoclassical growth model\n",
    "\n",
    "$$\\max_{c_{t}, k_{t+1}, l_{t}}\\sum^{\\infty}_{t=0}\\beta^{t}N_{t}\\left\\{\\log(c_{t})+\\mu\\frac{(1-l_{t})^{1-\\sigma}}{1-\\sigma}\\right\\}$$\n",
    "\n",
    "subject to:\n",
    "\n",
    "$$c_{t}+k_{t+1}-(1-\\delta)k_{t}=A_{t}k^{\\alpha}_{t}l^{1-\\alpha}_{t}$$\n",
    "\n",
    "where $A_{t+1}=(1+\\hat{A})A_{t}$ and $N_{t+1}=(1+\\hat{N})N_{t}$ are the exogenous growth processes for productivity and population, and $\\sigma\\geq 0$\n",
    "\n",
    "### Local approximations\n",
    "\n",
    "#### Efficiency and feasibility \n",
    "Write down, in the next markdown cell, the efficiency conditions and the feasibility constraint that are needed for the solution of the problem:"
   ]
  },
  {
   "cell_type": "markdown",
   "metadata": {},
   "source": [
    "$$\n",
    "\\begin{aligned}\n",
    "&\\frac{1}{\\beta} \\frac{c_{t+1}}{c_t}=\\alpha \\frac{y_{t+1}}{k_{t+1}}+(1-\\delta)\\\\\n",
    "&\\frac{c_t}{A_t}+(1+\\hat{A})(1+\\hat{N}) k_{t+1}-(1-\\delta) k_t=k_t^\\alpha l_t^{-\\alpha}\\\\\n",
    "&c_t=\\frac{1-\\alpha}{\\mu}\\left(1-l_t\\right)^\\sigma A_t k_t^\\alpha l_t^{-\\alpha}\n",
    "\\end{aligned}\n",
    "$$"
   ]
  },
  {
   "cell_type": "markdown",
   "metadata": {},
   "source": [
    "#### Balanced growth path\n",
    "- Write down, in the next markdown cell, the equations that allow for the solution of the economy in its balanced growth path"
   ]
  },
  {
   "cell_type": "markdown",
   "metadata": {},
   "source": []
  },
  {
   "cell_type": "markdown",
   "metadata": {},
   "source": [
    "- Supose that $\\beta=.97$, $\\mu=1.5$, $\\sigma=2.5$, $\\alpha=.3$, $\\delta=.08$, $\\hat{A}=.025$, $\\hat{N}=.015$, compute labor in the balanced growth path"
   ]
  },
  {
   "cell_type": "markdown",
   "metadata": {},
   "source": [
    "Import libraries"
   ]
  },
  {
   "cell_type": "code",
   "execution_count": 48,
   "metadata": {},
   "outputs": [],
   "source": [
    "import numpy as np\n",
    "import matplotlib.pyplot as plt\n",
    "from scipy import optimize\n",
    "from scipy.optimize import fsolve\n",
    "from scipy.optimize import approx_fprime\n"
   ]
  },
  {
   "cell_type": "markdown",
   "metadata": {},
   "source": [
    "Assign values"
   ]
  },
  {
   "cell_type": "code",
   "execution_count": 49,
   "metadata": {},
   "outputs": [],
   "source": [
    "beta = 0.97\n",
    "mu = 1.5\n",
    "sigma = 2.5\n",
    "alpha = 0.3\n",
    "delta = 0.08\n",
    "Ahat = 0.025\n",
    "Nhat = 0.015\n",
    "betaH = beta * ( 1+ Nhat)\n"
   ]
  },
  {
   "cell_type": "markdown",
   "metadata": {},
   "source": [
    "BGP"
   ]
  },
  {
   "cell_type": "code",
   "execution_count": 50,
   "metadata": {},
   "outputs": [],
   "source": [
    "arguments = (alpha,beta,sigma,delta,mu,Ahat,Nhat)\n",
    "\n",
    "def SystemBGP(x,*args):\n",
    "    k,l = x\n",
    "    alpha,beta,sigma,delta,mu,Ahat,Nhat = args\n",
    "    f1 = alpha * k ** (alpha - 1) * l ** (1 - alpha) + 1 - delta - (1 + Nhat) * (1 + Ahat) ** (1 / (1 - alpha)) / betaH\n",
    "    f2 = k ** alpha * l ** (1-alpha) + (1 - delta) * k - (1 + Nhat) * (1 + Ahat) ** (1 / (1 - alpha)) * k - (1 - alpha) * (1 - l) ** sigma * k ** alpha * l ** (-alpha) / mu\n",
    "    return [f1,f2]"
   ]
  },
  {
   "cell_type": "code",
   "execution_count": 51,
   "metadata": {},
   "outputs": [],
   "source": [
    "a = (alpha,beta,sigma,delta,mu,Ahat,Nhat)\n",
    "initial_point = [0.2,0.2]\n",
    "k_0,l_0  = fsolve(SystemBGP, initial_point, args = a)\n"
   ]
  },
  {
   "cell_type": "markdown",
   "metadata": {},
   "source": [
    "<font color='blue'>\n",
    "Labour in the Balanced Growth Path\n",
    "</font>"
   ]
  },
  {
   "cell_type": "code",
   "execution_count": 52,
   "metadata": {},
   "outputs": [
    {
     "data": {
      "text/plain": [
       "0.27993612072357277"
      ]
     },
     "execution_count": 52,
     "metadata": {},
     "output_type": "execute_result"
    }
   ],
   "source": [
    "l_0"
   ]
  },
  {
   "cell_type": "markdown",
   "metadata": {},
   "source": [
    "- Plot labor supply in the balance growth path as a function of $\\hat{A}\\in \\left[.01,.04\\right]$ and give an intuitive explanation of your results  "
   ]
  },
  {
   "cell_type": "code",
   "execution_count": 53,
   "metadata": {},
   "outputs": [
    {
     "data": {
      "image/png": "[encoded data removed]",
      "text/plain": [
       "<Figure size 640x480 with 1 Axes>"
      ]
     },
     "metadata": {},
     "output_type": "display_data"
    }
   ],
   "source": [
    "p = 20 #Size of grid for plotting labor \n",
    "Ahat_vector = np.linspace(0.01,0.04,p)\n",
    "labor_choice = np.zeros(p)\n",
    "arguments = (alpha,beta,sigma,delta,mu,0,Nhat)\n",
    "\n",
    "for i in range(len(Ahat_vector)):\n",
    "    productivity_rate = Ahat_vector[i]\n",
    "    arguments = (alpha,beta,sigma,delta,mu,productivity_rate,Nhat)\n",
    "    _,labor_choice_i =  fsolve(SystemBGP, initial_point, args = arguments)\n",
    "    labor_choice[i] = labor_choice_i\n",
    "    \n",
    "plt.plot(Ahat_vector, labor_choice, color='red')\n",
    "plt.xlabel(r'$\\hat{A}$', fontsize=12) # Label for the x-axis\n",
    "plt.ylabel('Labour supply', fontsize=12) # Label for the y-axis\n",
    "plt.show()"
   ]
  },
  {
   "cell_type": "markdown",
   "metadata": {},
   "source": [
    "<font color='blue'> The graph illustrates how, in a balanced growth path, an increase in productivity growth rate (A_hat) directly corresponds to an increase in labor supply. This reflects the assumption that population growth adjusts to match productivity growth, highlighting the model's long-term equilibrium where time doesn't impact the proportional relationship between these variables.</font>"
   ]
  },
  {
   "cell_type": "markdown",
   "metadata": {},
   "source": [
    "#### Log-linearization\n",
    "- Write down, in the next markdown cell, the log-linearized system of efficiency and feasibility constraints that allow for the application of the undetermined coefficients model"
   ]
  },
  {
   "cell_type": "markdown",
   "metadata": {},
   "source": [
    "$$\n",
    "\\tilde{k}_t^* = \\psi_k(A, L) \\tilde{k}_{t-1}^*\n",
    "$$\n",
    "$$\n",
    "\\tilde{l}_t^* = \\psi_l(A, L) \\tilde{k}_{t-1}^*\n",
    "$$\n",
    "$$\n",
    "\\tilde{c}_t^* = \\psi_c(A, L) \\tilde{k}_{t-1}^*\n",
    "$$\n",
    "\n",
    "$$ 0 = \\psi_c \\cdot \\psi_k - (1+g) \\cdot \\psi_c - \\beta \\cdot \\alpha \\cdot (\\alpha-1) \\cdot \\frac{y_0}{k_0} \\cdot (\\psi_k - \\psi_l \\cdot \\psi_k) $$\n",
    "\n",
    "$$ 0 = \\alpha \\cdot (1-\\alpha) \\cdot \\frac{y_0}{l_0} \\cdot (1-\\psi_l) - \\mu \\cdot \\frac{c_0}{(1-l_0)^\\sigma} \\cdot (\\psi_c + \\psi_l \\cdot \\sigma \\cdot \\frac{l_0}{1+l_0}) $$\n",
    "\n",
    "$$ 0 = c_0 \\cdot \\psi_c + (1+\\hat{N}) \\cdot k_0 \\cdot \\psi_k - (1-\\delta) \\cdot k_0 - y_0 \\cdot (\\alpha + (1-\\alpha) \\cdot \\psi_l)$$\n",
    "\n"
   ]
  },
  {
   "cell_type": "markdown",
   "metadata": {},
   "source": [
    "- Use the undetermined coefficient method to plot the labor and consumption policy functions "
   ]
  },
  {
   "cell_type": "code",
   "execution_count": 54,
   "metadata": {},
   "outputs": [],
   "source": [
    "def sys_indeterminado(psi, *args):\n",
    "    psi_c, psi_k, psi_l = psi \n",
    "    alpha, beta, sigma, delta, g, Nhat, k_0, c_0, l_0, y_0, mu = args\n",
    "    \n",
    "    f1 = psi_c * psi_k - (1+g) * psi_c - beta * alpha * (alpha-1) * y_0/k_0 * ( psi_k - psi_l * psi_k )\n",
    "    f2 = alpha * ( 1 - alpha ) * y_0/l_0 * ( 1 - psi_l ) - mu * c_0 / ( 1 - l_0 )**sigma * ( psi_c + psi_l * sigma * l_0 / ( 1+l_0 ))\n",
    "    f3 = c_0 * psi_c + ( 1+Nhat ) * k_0 * psi_k - ( 1-delta ) * k_0 - y_0 * ( alpha + ( 1 - alpha )*psi_l )\n",
    "    \n",
    "    f = np.array([f1,f2,f3])\n",
    "    return f"
   ]
  },
  {
   "cell_type": "code",
   "execution_count": 55,
   "metadata": {},
   "outputs": [
    {
     "data": {
      "text/plain": [
       "array([ 0.46166395,  0.82271391, -0.19091668])"
      ]
     },
     "execution_count": 55,
     "metadata": {},
     "output_type": "execute_result"
    }
   ],
   "source": [
    "a = (alpha,beta,sigma,delta,mu,Ahat,Nhat)\n",
    "initial_point = [.5,0.3]\n",
    "k_0,l_0 = fsolve(SystemBGP, initial_point, args = a)\n",
    "y_0 = k_0 ** alpha * l_0 ** ( 1-alpha )\n",
    "c_0 = ( 1 - alpha) / mu * ( 1 - l_0 ) ** sigma * k_0 ** alpha * l_0 ** (-alpha)\n",
    "g = (1.0+Ahat)**(1.0/(1.0-alpha))-1.0\n",
    "\n",
    "arg = (alpha,beta,sigma,delta, g, Nhat, k_0, c_0, l_0, y_0)\n",
    "argp = (alpha,beta,sigma,delta, g, Nhat, k_0, c_0, l_0, y_0,mu)\n",
    "\n",
    "initial_psi = [0.5,0.5,0.5]\n",
    "psi = fsolve(sys_indeterminado,initial_psi,args = argp)\n",
    "psi"
   ]
  },
  {
   "cell_type": "code",
   "execution_count": 56,
   "metadata": {},
   "outputs": [],
   "source": [
    "ss = alpha*delta/(1/beta-1+delta) \n",
    "lss = (1-alpha)*Nhat/(1-alpha*(1-ss))\n",
    "kss = (alpha*Ahat/(1/beta-1+delta))**(1/(1-alpha))*lss\n",
    "yss = Ahat*lss**(1-alpha)*kss**alpha"
   ]
  },
  {
   "cell_type": "code",
   "execution_count": 57,
   "metadata": {},
   "outputs": [],
   "source": [
    "# Necesitamos definir un grid para obtener las reglas de \n",
    "# decisión\n",
    "nk = 1000\n",
    "kgrid = np.linspace(\n",
    "    start = 0.01,\n",
    "    stop = 3*kss,\n",
    "    num = nk\n",
    "    )\n"
   ]
  },
  {
   "cell_type": "markdown",
   "metadata": {},
   "source": [
    "#### Calibration\n",
    "Use annual data for the US post-war period to find $\\beta$, $\\mu$. Keep the rest of the parameters set to the already stablished values. "
   ]
  },
  {
   "cell_type": "code",
   "execution_count": null,
   "metadata": {},
   "outputs": [],
   "source": []
  },
  {
   "cell_type": "markdown",
   "metadata": {},
   "source": [
    "#### Simulation \n",
    "Use the policy functions for the new calibrated parameters to study the convergence trayectory of consumption and labor supply to a permanent productivity slowdown to a productivity growth $\\hat{A}'=.012$ and give an intuitive explanation of your results, keep the rest of the parameters constant\n",
    "\n",
    "- You may use the perfect foresight algorithm in Dynare"
   ]
  },
  {
   "cell_type": "code",
   "execution_count": 58,
   "metadata": {},
   "outputs": [],
   "source": [
    "%load_ext oct2py.ipython"
   ]
  },
  {
   "cell_type": "markdown",
   "metadata": {},
   "source": []
  },
  {
   "cell_type": "markdown",
   "metadata": {},
   "source": [
    "### Dynamic programming \n",
    "\n",
    "#### Bellman equation\n",
    "Write down the Bellman equation of the planning problem in the next markdown cell"
   ]
  },
  {
   "cell_type": "markdown",
   "metadata": {},
   "source": [
    "The dynamic problem is \n",
    "$$v(\\hat{k}) = \\max_{\\hat{c},l,k'} \\left\\{\\log{\\hat{c}}+\\mu\\frac{(1-l)^{\\sigma}}{1-\\sigma}+\\hat{\\beta} v(\\hat{k}')\\right\\}$$\n",
    "\n",
    "subject to:\n",
    "$$\\hat{c} + (1+\\hat{N})(1+\\hat{A})^{\\frac{1}{1-\\alpha}}\\hat{k}' - (1-\\delta) \\hat{k} = \\hat{k}^{\\alpha} l^{1-\\alpha}$$"
   ]
  },
  {
   "cell_type": "markdown",
   "metadata": {},
   "source": [
    "#### Value function iteration\n",
    "Implement the value function iteration algorithm to compute the policy functions for consumption and labor, and plot them. Use the last set of parameters you found. "
   ]
  },
  {
   "cell_type": "code",
   "execution_count": 59,
   "metadata": {},
   "outputs": [
    {
     "name": "stderr",
     "output_type": "stream",
     "text": [
      "/var/folders/xv/t0p_3f453gg3q7j_sl724ldr0000gn/T/ipykernel_15128/3618871632.py:11: RuntimeWarning: invalid value encountered in power\n",
      "  t1 = k_i ** alpha * l ** ( 1 - alpha )\n",
      "/var/folders/xv/t0p_3f453gg3q7j_sl724ldr0000gn/T/ipykernel_15128/3618871632.py:20: RuntimeWarning: invalid value encountered in power\n",
      "  t4 = ( 1 - alpha ) * ( 1 - l ) ** sigma * k_i ** alpha * l ** (-alpha)\n",
      "/Users/mauricio/anaconda3/lib/python3.11/site-packages/scipy/optimize/_minpack_py.py:177: RuntimeWarning: The iteration is not making good progress, as measured by the \n",
      "  improvement from the last ten iterations.\n",
      "  warnings.warn(msg, RuntimeWarning)\n"
     ]
    },
    {
     "data": {
      "text/plain": [
       "[<matplotlib.lines.Line2D at 0x14f283210>]"
      ]
     },
     "execution_count": 59,
     "metadata": {},
     "output_type": "execute_result"
    },
    {
     "data": {
      "image/png": "[encoded data removed]",
      "text/plain": [
       "<Figure size 640x480 with 1 Axes>"
      ]
     },
     "metadata": {},
     "output_type": "display_data"
    }
   ],
   "source": [
    "kmin = .0001\n",
    "kmax=3.0*k_0\n",
    "nk = 100\n",
    "kgrid = np.linspace(\n",
    "    start=kmin, \n",
    "    stop=kmax, \n",
    "    num=nk\n",
    ")\n",
    "\n",
    "def consumption(l, k_i, k_j, Ahat, Nhat, delta, alpha):\n",
    "    t1 = k_i ** alpha * l ** ( 1 - alpha )\n",
    "    t2 = ( 1 - delta ) * k_i\n",
    "    t3 = ( 1 + Nhat ) * ( 1 + Ahat ) ** ( 1 / (1-alpha) ) * k_j\n",
    "    return t1 + t2 - t3\n",
    "\n",
    "\n",
    "def labor_equation(l,*args):\n",
    "    k_i, k_j, Ahat, Nhat, delta, alpha, mu, sigma = args\n",
    "    consumption_ij = consumption(l, k_i, k_j, Ahat, Nhat, delta, alpha)\n",
    "    t4 = ( 1 - alpha ) * ( 1 - l ) ** sigma * k_i ** alpha * l ** (-alpha)\n",
    "    t4 = t4 / mu\n",
    "    return consumption(l, k_i, k_j, Ahat, Nhat, delta, alpha) - t4\n",
    "\n",
    "    \n",
    "def labor_consumption(gridk, Ahat, Nhat, delta, alpha, mu, sigma):\n",
    "    partial_args = (Ahat, Nhat, delta, alpha, mu, sigma)\n",
    "    n = len(gridk)\n",
    "    C = np.zeros((n,n))\n",
    "    L = np.zeros((n,n))\n",
    "    \n",
    "    for i in range(n):\n",
    "        k_i = gridk[i]\n",
    "        for j in range(n):\n",
    "            k_j = gridk[j]\n",
    "            \n",
    "            corner1 = consumption(1, k_i, k_j, Ahat, Nhat, delta, alpha)\n",
    "            if corner1<0: \n",
    "                c = 0\n",
    "                l = 1\n",
    "            else:\n",
    "                \n",
    "                args = (k_i,k_j)+ partial_args\n",
    "                l = fsolve(labor_equation,0.3,args)\n",
    "                \n",
    "                #Compute consumption\n",
    "                c = consumption(l, k_i, k_j, Ahat, Nhat, delta, alpha)\n",
    "            l = 1 if c<=0 else l\n",
    "            C[i,j] = c\n",
    "            L[i,j] = l\n",
    "    return C,L\n",
    "            \n",
    "def utility(consumo,labor,mu,sigma):\n",
    "    n = len(consumo)\n",
    "    U = -1.0e+6*np.ones((n,n))\n",
    "    U[consumo > 0] = np.log(consumo[consumo>0]) + mu * (1-labor[consumo>0]) ** (1-sigma) / (1-sigma)\n",
    "    return U\n",
    "\n",
    "vInit = np.zeros((nk,1))\n",
    "def bellman(vInit, grid, Ahat, Nhat, betaH, alpha, delta, mu, sigma):\n",
    "    n = len(grid)\n",
    "    C,L = labor_consumption(grid, Ahat, Nhat, delta, alpha, mu, sigma)\n",
    "    U = utility(C,L,mu,sigma)\n",
    "    \n",
    "#    Vp = U+beta*vInit*np.ones((1,n))\n",
    "#    vInit = np.zeros((nk, 1))\n",
    "    tol = 1.0e-6\n",
    "    err = 100\n",
    "    \n",
    "    # Inicializamos la iteración de la función de \n",
    "    # valor\n",
    "    i = 0 # set a counter\n",
    "    err=100 # set initial error > tolerance\n",
    "    while (err>tol):\n",
    "        Vp = U+betaH*vInit*np.ones((1,nk))\n",
    "        maxVp = np.max(Vp.T, axis=0)\n",
    "        err = np.max(np.abs(vInit-maxVp)) # supremum norm\n",
    "        vInit = maxVp\n",
    "        # Dejar de comentar si queremos analizar\n",
    "        # el proceso de convergencia y el número\n",
    "        # de repeticiones\n",
    "     #   print([i, err])\n",
    "        i = i+1\n",
    "\n",
    "    Vp = U+betaH*vInit*np.ones((1,nk))\n",
    "    ind = np.argmax(Vp.T, axis=0)\n",
    "    Kp = grid[ind]\n",
    "    return Vp, Kp\n",
    "\n",
    "vopt, kpol = bellman(vInit, kgrid, Ahat, Nhat, beta, alpha, delta, mu, sigma)\n",
    "\n",
    "plt.plot(kgrid,kpol)"
   ]
  },
  {
   "cell_type": "markdown",
   "metadata": {},
   "source": [
    "#### Simulation\n",
    "Use the policy funtions to simulate the same productivity slowdown than in the local approximation "
   ]
  },
  {
   "cell_type": "code",
   "execution_count": null,
   "metadata": {},
   "outputs": [],
   "source": []
  },
  {
   "cell_type": "markdown",
   "metadata": {},
   "source": [
    "### Decentralized value function iteration\n",
    "\n",
    "#### The small-k big-k algorithm\n",
    "Use the algorithm that we studied in class to compute a decentralized recursive version of this economy, and plot the consumption and labor supply policy functions over aggregate capital  "
   ]
  },
  {
   "cell_type": "code",
   "execution_count": null,
   "metadata": {},
   "outputs": [],
   "source": []
  }
 ],
 "metadata": {
  "kernelspec": {
   "display_name": "base",
   "language": "python",
   "name": "python3"
  },
  "language_info": {
   "codemirror_mode": {
    "name": "ipython",
    "version": 3
   },
   "file_extension": ".py",
   "mimetype": "text/x-python",
   "name": "python",
   "nbconvert_exporter": "python",
   "pygments_lexer": "ipython3",
   "version": "3.11.5"
  }
 },
 "nbformat": 4,
 "nbformat_minor": 2
}

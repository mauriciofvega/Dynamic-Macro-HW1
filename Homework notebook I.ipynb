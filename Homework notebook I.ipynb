{
 "cells": [
  {
   "cell_type": "markdown",
   "metadata": {},
   "source": [
    "# Homework notebook I - Mauricio Vega\n",
    "\n",
    "This is the first notebook to help you practice your macroeconomic modelling and problem solving skills. It will also be part of your evaluation. Although I prefer, and highly recommend, to solve these tasks in **python**, I will accept any other programming language, as only solutions to the problems will be evaluated.\n",
    "\n",
    "The notebook consist of the solution of one model, whose balanced growth path needs to be computed numerically:\n",
    "\n",
    "- Using local approximations\n",
    "\n",
    "- Using dynamic programing\n",
    "\n",
    "## The model\n",
    "Consider the next planning problem of a *dynastic* version of the neoclassical growth model\n",
    "\n",
    "$$\\max_{c_{t}, k_{t+1}, l_{t}}\\sum^{\\infty}_{t=0}\\beta^{t}N_{t}\\left\\{\\log(c_{t})+\\mu\\frac{(1-l_{t})^{1-\\sigma}}{1-\\sigma}\\right\\}$$\n",
    "\n",
    "subject to:\n",
    "\n",
    "$$c_{t}+k_{t+1}-(1-\\delta)k_{t}=A_{t}k^{\\alpha}_{t}l^{1-\\alpha}_{t}$$\n",
    "\n",
    "where $A_{t+1}=(1+\\hat{A})A_{t}$ and $N_{t+1}=(1+\\hat{N})N_{t}$ are the exogenous growth processes for productivity and population, and $\\sigma\\geq 0$\n",
    "\n",
    "### Local approximations\n",
    "\n",
    "#### Efficiency and feasibility \n",
    "Write down, in the next markdown cell, the efficiency conditions and the feasibility constraint that are needed for the solution of the problem:"
   ]
  },
  {
   "cell_type": "markdown",
   "metadata": {},
   "source": []
  },
  {
   "cell_type": "markdown",
   "metadata": {},
   "source": [
    "#### Balanced growth path\n",
    "- Write down, in the next markdown cell, the equations that allow for the solution of the economy in its balanced growth path"
   ]
  },
  {
   "cell_type": "markdown",
   "metadata": {},
   "source": []
  },
  {
   "cell_type": "markdown",
   "metadata": {},
   "source": [
    "- Supose that $\\beta=.97$, $\\mu=1.5$, $\\sigma=2.5$, $\\alpha=.3$, $\\delta=.08$, $\\hat{A}=.025$, $\\hat{N}=.015$, compute labor in the balanced growth path"
   ]
  },
  {
   "cell_type": "markdown",
   "metadata": {},
   "source": [
    "Import libraries"
   ]
  },
  {
   "cell_type": "code",
   "execution_count": 27,
   "metadata": {},
   "outputs": [],
   "source": [
    "import numpy as np\n",
    "import matplotlib.pyplot as plt\n",
    "from scipy import optimize\n",
    "from scipy.optimize import fsolve\n",
    "from scipy.optimize import approx_fprime\n"
   ]
  },
  {
   "cell_type": "markdown",
   "metadata": {},
   "source": [
    "Assign values"
   ]
  },
  {
   "cell_type": "code",
   "execution_count": 28,
   "metadata": {},
   "outputs": [],
   "source": [
    "beta = 0.97\n",
    "mu = 1.5\n",
    "sigma = 2.5\n",
    "alpha = 0.3\n",
    "delta = 0.08\n",
    "Ahat = 0.025\n",
    "Nhat = 0.015\n",
    "betaH = beta * ( 1+ Nhat)\n"
   ]
  },
  {
   "cell_type": "markdown",
   "metadata": {},
   "source": [
    "BGP"
   ]
  },
  {
   "cell_type": "code",
   "execution_count": 29,
   "metadata": {},
   "outputs": [],
   "source": [
    "arguments = (alpha,beta,sigma,delta,mu,Ahat,Nhat)\n",
    "\n",
    "def SystemBGP(x,*args):\n",
    "    k,l = x\n",
    "    alpha,beta,sigma,delta,mu,Ahat,Nhat = args\n",
    "    f1 = alpha * k ** (alpha - 1) * l ** (1 - alpha) + 1 - delta - (1 + Nhat) * (1 + Ahat) ** (1 / (1 - alpha)) / betaH\n",
    "    f2 = k ** alpha * l ** (1-alpha) + (1 - delta) * k - (1 + Nhat) * (1 + Ahat) ** (1 / (1 - alpha)) * k - (1 - alpha) * (1 - l) ** sigma * k ** alpha * l ** (-alpha) / mu\n",
    "    return [f1,f2]"
   ]
  },
  {
   "cell_type": "code",
   "execution_count": 30,
   "metadata": {},
   "outputs": [],
   "source": [
    "a = (alpha,beta,sigma,delta,mu,Ahat,Nhat)\n",
    "initial_point = [0.2,0.2]\n",
    "k_0,l_0  = fsolve(SystemBGP, initial_point, args = a)\n"
   ]
  },
  {
   "cell_type": "markdown",
   "metadata": {},
   "source": [
    "- Plot labor supply in the balance growth path as a function of $\\hat{A}\\in \\left[.01,.04\\right]$ and give an intuitive explanation of your results  "
   ]
  },
  {
   "cell_type": "markdown",
   "metadata": {},
   "source": [
    "LABOR IN THE BALANCED GROWTH PATH"
   ]
  },
  {
   "cell_type": "code",
   "execution_count": 31,
   "metadata": {},
   "outputs": [
    {
     "data": {
      "text/plain": [
       "0.27993612072357277"
      ]
     },
     "execution_count": 31,
     "metadata": {},
     "output_type": "execute_result"
    }
   ],
   "source": [
    "l_0"
   ]
  },
  {
   "cell_type": "markdown",
   "metadata": {},
   "source": [
    "#### Log-linearization\n",
    "- Write down, in the next markdown cell, the log-linearized system of efficiency and feasibility constraints that allow for the application of the undetermined coefficients model"
   ]
  },
  {
   "cell_type": "markdown",
   "metadata": {},
   "source": []
  },
  {
   "cell_type": "markdown",
   "metadata": {},
   "source": [
    "- Use the undetermined coefficient method to plot the labor and consumption policy functions "
   ]
  },
  {
   "cell_type": "code",
   "execution_count": null,
   "metadata": {},
   "outputs": [],
   "source": []
  },
  {
   "cell_type": "markdown",
   "metadata": {},
   "source": [
    "#### Calibration\n",
    "Use annual data for the US post-war period to find $\\beta$, $\\mu$. Keep the rest of the parameters set to the already stablished values. "
   ]
  },
  {
   "cell_type": "code",
   "execution_count": null,
   "metadata": {},
   "outputs": [],
   "source": []
  },
  {
   "cell_type": "markdown",
   "metadata": {},
   "source": [
    "#### Simulation \n",
    "Use the policy functions for the new calibrated parameters to study the convergence trayectory of consumption and labor supply to a permanent productivity slowdown to a productivity growth $\\hat{A}'=.012$ and give an intuitive explanation of your results, keep the rest of the parameters constant\n",
    "\n",
    "- You may use the perfect foresight algorithm in Dynare"
   ]
  },
  {
   "cell_type": "code",
   "execution_count": null,
   "metadata": {},
   "outputs": [],
   "source": []
  },
  {
   "cell_type": "markdown",
   "metadata": {},
   "source": [
    "### Dynamic programming \n",
    "\n",
    "#### Bellman equation\n",
    "Write down the Bellman equation of the planning problem in the next markdown cell"
   ]
  },
  {
   "cell_type": "markdown",
   "metadata": {},
   "source": []
  },
  {
   "cell_type": "markdown",
   "metadata": {},
   "source": [
    "#### Value function iteration\n",
    "Implement the value function iteration algorithm to compute the policy functions for consumption and labor, and plot them. Use the last set of parameters you found. "
   ]
  },
  {
   "cell_type": "code",
   "execution_count": null,
   "metadata": {},
   "outputs": [],
   "source": []
  },
  {
   "cell_type": "markdown",
   "metadata": {},
   "source": [
    "#### Simulation\n",
    "Use the policy funtions to simulate the same productivity slowdown than in the local approximation "
   ]
  },
  {
   "cell_type": "code",
   "execution_count": null,
   "metadata": {},
   "outputs": [],
   "source": []
  },
  {
   "cell_type": "markdown",
   "metadata": {},
   "source": [
    "### Decentralized value function iteration\n",
    "\n",
    "#### The small-k big-k algorithm\n",
    "Use the algorithm that we studied in class to compute a decentralized recursive version of this economy, and plot the consumption and labor supply policy functions over aggregate capital  "
   ]
  },
  {
   "cell_type": "code",
   "execution_count": null,
   "metadata": {},
   "outputs": [],
   "source": []
  }
 ],
 "metadata": {
  "kernelspec": {
   "display_name": "base",
   "language": "python",
   "name": "python3"
  },
  "language_info": {
   "codemirror_mode": {
    "name": "ipython",
    "version": 3
   },
   "file_extension": ".py",
   "mimetype": "text/x-python",
   "name": "python",
   "nbconvert_exporter": "python",
   "pygments_lexer": "ipython3",
   "version": "3.11.5"
  }
 },
 "nbformat": 4,
 "nbformat_minor": 2
}
